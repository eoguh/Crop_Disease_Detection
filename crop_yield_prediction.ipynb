{
  "cells": [
    {
      "cell_type": "markdown",
      "metadata": {
        "id": "view-in-github",
        "colab_type": "text"
      },
      "source": [
        "<a href=\"https://colab.research.google.com/github/eoguh/Crop_Disease_Detection/blob/main/crop_yield_prediction.ipynb\" target=\"_parent\"><img src=\"https://colab.research.google.com/assets/colab-badge.svg\" alt=\"Open In Colab\"/></a>"
      ]
    },
    {
      "cell_type": "code",
      "execution_count": null,
      "id": "0e271d29-5450-4456-8d14-f3fd41ac2f7c",
      "metadata": {
        "id": "0e271d29-5450-4456-8d14-f3fd41ac2f7c"
      },
      "outputs": [],
      "source": [
        "# Import Libraries\n",
        "import matplotlib.pyplot as plt\n",
        "import seaborn as sns\n",
        "import numpy as np\n",
        "import pandas as pd\n",
        "from sklearn.model_selection import train_test_split\n",
        "from sklearn.preprocessing import StandardScaler\n",
        "from sklearn.ensemble import RandomForestRegressor\n",
        "from sklearn.metrics import mean_squared_error, r2_score\n"
      ]
    },
    {
      "cell_type": "markdown",
      "id": "4b6fe355-60bd-4657-80f8-1c3c88ed804f",
      "metadata": {
        "id": "4b6fe355-60bd-4657-80f8-1c3c88ed804f"
      },
      "source": [
        "#\n",
        "Here we import multiple models so we can try as many as we can and select the model that gives the least error."
      ]
    },
    {
      "cell_type": "code",
      "execution_count": null,
      "id": "4dba1112-4fc9-405a-a22b-9bc21eb897e6",
      "metadata": {
        "id": "4dba1112-4fc9-405a-a22b-9bc21eb897e6"
      },
      "outputs": [],
      "source": [
        "# Multiply Models\n",
        "\n",
        "from sklearn.linear_model import LinearRegression, Ridge, Lasso, ElasticNet\n",
        "from sklearn.tree import DecisionTreeRegressor\n",
        "from sklearn.ensemble import RandomForestRegressor, GradientBoostingRegressor, AdaBoostRegressor\n",
        "from sklearn.neighbors import KNeighborsRegressor\n",
        "from xgboost import XGBRegressor  # You may need to install xgboost: pip install xgboost\n"
      ]
    },
    {
      "cell_type": "code",
      "source": [
        "from google.colab import drive\n",
        "import os"
      ],
      "metadata": {
        "id": "_6ZAObC_UtU-"
      },
      "id": "_6ZAObC_UtU-",
      "execution_count": null,
      "outputs": []
    },
    {
      "cell_type": "code",
      "source": [
        "drive.mount('/content/drive')\n"
      ],
      "metadata": {
        "colab": {
          "base_uri": "https://localhost:8080/",
          "height": 304
        },
        "id": "pzVdu3mLUwGF",
        "outputId": "ed90d80b-bdfe-4fd8-8360-a21b4992d458"
      },
      "id": "pzVdu3mLUwGF",
      "execution_count": null,
      "outputs": [
        {
          "output_type": "error",
          "ename": "ValueError",
          "evalue": "mount failed",
          "traceback": [
            "\u001b[0;31m---------------------------------------------------------------------------\u001b[0m",
            "\u001b[0;31mValueError\u001b[0m                                Traceback (most recent call last)",
            "\u001b[0;32m<ipython-input-5-3b8a479202a4>\u001b[0m in \u001b[0;36m<cell line: 0>\u001b[0;34m()\u001b[0m\n\u001b[0;32m----> 1\u001b[0;31m \u001b[0mdrive\u001b[0m\u001b[0;34m.\u001b[0m\u001b[0mmount\u001b[0m\u001b[0;34m(\u001b[0m\u001b[0;34m'/content/drive'\u001b[0m\u001b[0;34m)\u001b[0m\u001b[0;34m\u001b[0m\u001b[0;34m\u001b[0m\u001b[0m\n\u001b[0m",
            "\u001b[0;32m/usr/local/lib/python3.11/dist-packages/google/colab/drive.py\u001b[0m in \u001b[0;36mmount\u001b[0;34m(mountpoint, force_remount, timeout_ms, readonly)\u001b[0m\n\u001b[1;32m     98\u001b[0m \u001b[0;32mdef\u001b[0m \u001b[0mmount\u001b[0m\u001b[0;34m(\u001b[0m\u001b[0mmountpoint\u001b[0m\u001b[0;34m,\u001b[0m \u001b[0mforce_remount\u001b[0m\u001b[0;34m=\u001b[0m\u001b[0;32mFalse\u001b[0m\u001b[0;34m,\u001b[0m \u001b[0mtimeout_ms\u001b[0m\u001b[0;34m=\u001b[0m\u001b[0;36m120000\u001b[0m\u001b[0;34m,\u001b[0m \u001b[0mreadonly\u001b[0m\u001b[0;34m=\u001b[0m\u001b[0;32mFalse\u001b[0m\u001b[0;34m)\u001b[0m\u001b[0;34m:\u001b[0m\u001b[0;34m\u001b[0m\u001b[0;34m\u001b[0m\u001b[0m\n\u001b[1;32m     99\u001b[0m   \u001b[0;34m\"\"\"Mount your Google Drive at the specified mountpoint path.\"\"\"\u001b[0m\u001b[0;34m\u001b[0m\u001b[0;34m\u001b[0m\u001b[0m\n\u001b[0;32m--> 100\u001b[0;31m   return _mount(\n\u001b[0m\u001b[1;32m    101\u001b[0m       \u001b[0mmountpoint\u001b[0m\u001b[0;34m,\u001b[0m\u001b[0;34m\u001b[0m\u001b[0;34m\u001b[0m\u001b[0m\n\u001b[1;32m    102\u001b[0m       \u001b[0mforce_remount\u001b[0m\u001b[0;34m=\u001b[0m\u001b[0mforce_remount\u001b[0m\u001b[0;34m,\u001b[0m\u001b[0;34m\u001b[0m\u001b[0;34m\u001b[0m\u001b[0m\n",
            "\u001b[0;32m/usr/local/lib/python3.11/dist-packages/google/colab/drive.py\u001b[0m in \u001b[0;36m_mount\u001b[0;34m(mountpoint, force_remount, timeout_ms, ephemeral, readonly)\u001b[0m\n\u001b[1;32m    275\u001b[0m             \u001b[0;34m'https://research.google.com/colaboratory/faq.html#drive-timeout'\u001b[0m\u001b[0;34m\u001b[0m\u001b[0;34m\u001b[0m\u001b[0m\n\u001b[1;32m    276\u001b[0m         )\n\u001b[0;32m--> 277\u001b[0;31m       \u001b[0;32mraise\u001b[0m \u001b[0mValueError\u001b[0m\u001b[0;34m(\u001b[0m\u001b[0;34m'mount failed'\u001b[0m \u001b[0;34m+\u001b[0m \u001b[0mextra_reason\u001b[0m\u001b[0;34m)\u001b[0m\u001b[0;34m\u001b[0m\u001b[0;34m\u001b[0m\u001b[0m\n\u001b[0m\u001b[1;32m    278\u001b[0m     \u001b[0;32melif\u001b[0m \u001b[0mcase\u001b[0m \u001b[0;34m==\u001b[0m \u001b[0;36m4\u001b[0m\u001b[0;34m:\u001b[0m\u001b[0;34m\u001b[0m\u001b[0;34m\u001b[0m\u001b[0m\n\u001b[1;32m    279\u001b[0m       \u001b[0;31m# Terminate the DriveFS binary before killing bash.\u001b[0m\u001b[0;34m\u001b[0m\u001b[0;34m\u001b[0m\u001b[0m\n",
            "\u001b[0;31mValueError\u001b[0m: mount failed"
          ]
        }
      ]
    },
    {
      "cell_type": "code",
      "source": [
        "root_dir='/content/drive/MyDrive/Crop_Yield_Prediction/'"
      ],
      "metadata": {
        "id": "ZtWJ-FiEU7yD"
      },
      "id": "ZtWJ-FiEU7yD",
      "execution_count": null,
      "outputs": []
    },
    {
      "cell_type": "code",
      "execution_count": null,
      "id": "3d96d435-8d8c-4953-9da7-7d6d9bd8f083",
      "metadata": {
        "id": "3d96d435-8d8c-4953-9da7-7d6d9bd8f083"
      },
      "outputs": [],
      "source": [
        "# Load Data\n",
        "\n",
        "data_path = os.path.join(root_dir, 'indiancrop_dataset_2.csv')\n",
        "\n",
        "farm_data = pd.read_csv(data_path).drop(['STATE', 'CROP'], axis=1)\n",
        "\n"
      ]
    },
    {
      "cell_type": "code",
      "execution_count": null,
      "id": "4dd52e95-2bc6-4c30-aa4e-a04f3192c08c",
      "metadata": {
        "id": "4dd52e95-2bc6-4c30-aa4e-a04f3192c08c"
      },
      "outputs": [],
      "source": [
        "# Split the data into features (X) and target (y)\n",
        "\n",
        "X = farm_data.drop(columns=['CROP_YIELD'])\n",
        "Y = farm_data['CROP_YIELD']\n"
      ]
    },
    {
      "cell_type": "code",
      "execution_count": null,
      "id": "cde3612f-d402-43e0-8f62-d3a5041cfb11",
      "metadata": {
        "id": "cde3612f-d402-43e0-8f62-d3a5041cfb11"
      },
      "outputs": [],
      "source": [
        "# Get Dummies\n",
        "\n",
        "X = pd.get_dummies(X)\n"
      ]
    },
    {
      "cell_type": "code",
      "execution_count": null,
      "id": "eef60e88-7070-4309-ae53-4d79249a2f72",
      "metadata": {
        "id": "eef60e88-7070-4309-ae53-4d79249a2f72"
      },
      "outputs": [],
      "source": [
        "# Split the data into training and testing sets\n",
        "\n",
        "X_train, X_test, y_train, y_test = train_test_split(X, Y, test_size=0.2, random_state=42)\n",
        "\n"
      ]
    },
    {
      "cell_type": "code",
      "execution_count": null,
      "id": "776b2eab-78a4-4ad3-b8ad-fb14c2858eae",
      "metadata": {
        "id": "776b2eab-78a4-4ad3-b8ad-fb14c2858eae"
      },
      "outputs": [],
      "source": [
        "# Scale the features\n",
        "\n",
        "\n",
        "scaler = StandardScaler()\n",
        "X_train = scaler.fit_transform(X_train)\n",
        "X_test = scaler.transform(X_test)\n"
      ]
    },
    {
      "cell_type": "markdown",
      "id": "fb5c4638-d38b-4b24-a110-c064998e1fe4",
      "metadata": {
        "id": "fb5c4638-d38b-4b24-a110-c064998e1fe4"
      },
      "source": [
        "#\n",
        "Testing multiply models here"
      ]
    },
    {
      "cell_type": "code",
      "execution_count": null,
      "id": "cd54b97d-5be5-4736-9b5d-17b6db3d45bf",
      "metadata": {
        "colab": {
          "base_uri": "https://localhost:8080/"
        },
        "id": "cd54b97d-5be5-4736-9b5d-17b6db3d45bf",
        "outputId": "df35f4b7-d9ae-4594-b0c9-f0ce2980ca87"
      },
      "outputs": [
        {
          "output_type": "stream",
          "name": "stdout",
          "text": [
            "Linear Regression: MSE = 6943217.13, RMSE = 2635.00, R2 = -0.0146, Percentage Error = 100.01%\n",
            "Ridge Regression: MSE = 6942574.01, RMSE = 2634.88, R2 = -0.0146, Percentage Error = 100.00%\n",
            "Lasso Regression: MSE = 6940741.99, RMSE = 2634.53, R2 = -0.0143, Percentage Error = 99.99%\n",
            "ElasticNet Regression: MSE = 6794147.33, RMSE = 2606.56, R2 = 0.0071, Percentage Error = 98.93%\n",
            "Decision Tree: MSE = 14622152.48, RMSE = 3823.89, R2 = -1.1368, Percentage Error = 145.13%\n",
            "Random Forest: MSE = 9214625.17, RMSE = 3035.56, R2 = -0.3466, Percentage Error = 115.21%\n",
            "Gradient Boosting: MSE = 7639286.16, RMSE = 2763.93, R2 = -0.1164, Percentage Error = 104.90%\n",
            "XGBoost: MSE = 11360748.00, RMSE = 3370.57, R2 = -0.6602, Percentage Error = 127.93%\n",
            "AdaBoost: MSE = 17051675.46, RMSE = 4129.37, R2 = -1.4918, Percentage Error = 156.73%\n",
            "KNN Regressor: MSE = 9146692.82, RMSE = 3024.35, R2 = -0.3366, Percentage Error = 114.79%\n",
            "\n",
            "Summary of Model Performance:\n",
            "\n",
            "                   Model           MSE         RMSE        R2  \\\n",
            "3  ElasticNet Regression  6.794147e+06  2606.558523  0.007139   \n",
            "2       Lasso Regression  6.940742e+06  2634.528798 -0.014284   \n",
            "1       Ridge Regression  6.942574e+06  2634.876469 -0.014552   \n",
            "0      Linear Regression  6.943217e+06  2634.998508 -0.014646   \n",
            "6      Gradient Boosting  7.639286e+06  2763.925861 -0.116365   \n",
            "9          KNN Regressor  9.146693e+06  3024.349983 -0.336650   \n",
            "5          Random Forest  9.214625e+06  3035.560108 -0.346577   \n",
            "7                XGBoost  1.136075e+07  3370.570872 -0.660201   \n",
            "4          Decision Tree  1.462215e+07  3823.892321 -1.136805   \n",
            "8               AdaBoost  1.705168e+07  4129.367441 -1.491843   \n",
            "\n",
            "   Percentage Error         MAPE  \n",
            "3         98.929501   847.410353  \n",
            "2         99.991087   723.907597  \n",
            "1        100.004282   722.266446  \n",
            "0        100.008914   721.795184  \n",
            "6        104.902232   836.583182  \n",
            "9        114.786387   937.020618  \n",
            "5        115.211857   856.766786  \n",
            "7        127.926878   726.227826  \n",
            "4        145.132272   525.681959  \n",
            "8        156.726295  1115.724131  \n"
          ]
        }
      ],
      "source": [
        "\n",
        "# List of models to evaluate\n",
        "models = {\n",
        "    \"Linear Regression\": LinearRegression(),\n",
        "    \"Ridge Regression\": Ridge(),\n",
        "    \"Lasso Regression\": Lasso(),\n",
        "    \"ElasticNet Regression\": ElasticNet(),\n",
        "    \"Decision Tree\": DecisionTreeRegressor(random_state=42),\n",
        "    \"Random Forest\": RandomForestRegressor(random_state=42),\n",
        "    \"Gradient Boosting\": GradientBoostingRegressor(random_state=42),\n",
        "    \"XGBoost\": XGBRegressor(random_state=42),\n",
        "    \"AdaBoost\": AdaBoostRegressor(random_state=42),\n",
        "    \"KNN Regressor\": KNeighborsRegressor()\n",
        "}\n",
        "\n",
        "# Function to calculate MAPE\n",
        "def mean_absolute_percentage_error(y_true, y_pred):\n",
        "    return np.mean(np.abs((y_true - y_pred) / y_true)) * 100\n",
        "\n",
        "results = []\n",
        "\n",
        "for name, model in models.items():\n",
        "    model.fit(X_train, y_train)\n",
        "    y_pred = model.predict(X_test)\n",
        "    mse = mean_squared_error(y_test, y_pred)\n",
        "    rmse = np.sqrt(mse)\n",
        "    r2 = r2_score(y_test, y_pred)\n",
        "\n",
        "    y_mean = np.mean(y_train)\n",
        "    mse_baseline = mean_squared_error(y_test, np.full_like(y_test, y_mean))\n",
        "\n",
        "    # Calculate the percentage error\n",
        "    mean_target = np.mean(y_test)\n",
        "    percentage_error = (rmse / mean_target) * 100\n",
        "\n",
        "    # Calculate MAPE\n",
        "    mape = mean_absolute_percentage_error(y_test, y_pred)\n",
        "\n",
        "    results.append((name, mse, rmse, r2, percentage_error, mape))\n",
        "    print(f\"{name}: MSE = {mse:.2f}, RMSE = {rmse:.2f}, R2 = {r2:.4f}, Percentage Error = {percentage_error:.2f}%\")\n",
        "\n",
        "# Create dataframe of results\n",
        "results_df = pd.DataFrame(results, columns=[\"Model\", \"MSE\", \"RMSE\", \"R2\", \"Percentage Error\", \"MAPE\"])\n",
        "print(\"\\nSummary of Model Performance:\\n\")\n",
        "print(results_df.sort_values(by='RMSE'))"
      ]
    },
    {
      "cell_type": "markdown",
      "id": "3789e4ec-564f-47e7-9216-0b0e634ff19c",
      "metadata": {
        "id": "3789e4ec-564f-47e7-9216-0b0e634ff19c"
      },
      "source": [
        "Select and train the model Here"
      ]
    },
    {
      "cell_type": "code",
      "execution_count": null,
      "id": "7d338c78-b168-44e1-a237-c4037aacf245",
      "metadata": {
        "colab": {
          "base_uri": "https://localhost:8080/",
          "height": 80
        },
        "id": "7d338c78-b168-44e1-a237-c4037aacf245",
        "outputId": "4ff1dc19-d5f6-4c88-b53e-f36c8500680b"
      },
      "outputs": [
        {
          "output_type": "execute_result",
          "data": {
            "text/plain": [
              "AdaBoostRegressor(random_state=42)"
            ],
            "text/html": [
              "<style>#sk-container-id-3 {\n",
              "  /* Definition of color scheme common for light and dark mode */\n",
              "  --sklearn-color-text: #000;\n",
              "  --sklearn-color-text-muted: #666;\n",
              "  --sklearn-color-line: gray;\n",
              "  /* Definition of color scheme for unfitted estimators */\n",
              "  --sklearn-color-unfitted-level-0: #fff5e6;\n",
              "  --sklearn-color-unfitted-level-1: #f6e4d2;\n",
              "  --sklearn-color-unfitted-level-2: #ffe0b3;\n",
              "  --sklearn-color-unfitted-level-3: chocolate;\n",
              "  /* Definition of color scheme for fitted estimators */\n",
              "  --sklearn-color-fitted-level-0: #f0f8ff;\n",
              "  --sklearn-color-fitted-level-1: #d4ebff;\n",
              "  --sklearn-color-fitted-level-2: #b3dbfd;\n",
              "  --sklearn-color-fitted-level-3: cornflowerblue;\n",
              "\n",
              "  /* Specific color for light theme */\n",
              "  --sklearn-color-text-on-default-background: var(--sg-text-color, var(--theme-code-foreground, var(--jp-content-font-color1, black)));\n",
              "  --sklearn-color-background: var(--sg-background-color, var(--theme-background, var(--jp-layout-color0, white)));\n",
              "  --sklearn-color-border-box: var(--sg-text-color, var(--theme-code-foreground, var(--jp-content-font-color1, black)));\n",
              "  --sklearn-color-icon: #696969;\n",
              "\n",
              "  @media (prefers-color-scheme: dark) {\n",
              "    /* Redefinition of color scheme for dark theme */\n",
              "    --sklearn-color-text-on-default-background: var(--sg-text-color, var(--theme-code-foreground, var(--jp-content-font-color1, white)));\n",
              "    --sklearn-color-background: var(--sg-background-color, var(--theme-background, var(--jp-layout-color0, #111)));\n",
              "    --sklearn-color-border-box: var(--sg-text-color, var(--theme-code-foreground, var(--jp-content-font-color1, white)));\n",
              "    --sklearn-color-icon: #878787;\n",
              "  }\n",
              "}\n",
              "\n",
              "#sk-container-id-3 {\n",
              "  color: var(--sklearn-color-text);\n",
              "}\n",
              "\n",
              "#sk-container-id-3 pre {\n",
              "  padding: 0;\n",
              "}\n",
              "\n",
              "#sk-container-id-3 input.sk-hidden--visually {\n",
              "  border: 0;\n",
              "  clip: rect(1px 1px 1px 1px);\n",
              "  clip: rect(1px, 1px, 1px, 1px);\n",
              "  height: 1px;\n",
              "  margin: -1px;\n",
              "  overflow: hidden;\n",
              "  padding: 0;\n",
              "  position: absolute;\n",
              "  width: 1px;\n",
              "}\n",
              "\n",
              "#sk-container-id-3 div.sk-dashed-wrapped {\n",
              "  border: 1px dashed var(--sklearn-color-line);\n",
              "  margin: 0 0.4em 0.5em 0.4em;\n",
              "  box-sizing: border-box;\n",
              "  padding-bottom: 0.4em;\n",
              "  background-color: var(--sklearn-color-background);\n",
              "}\n",
              "\n",
              "#sk-container-id-3 div.sk-container {\n",
              "  /* jupyter's `normalize.less` sets `[hidden] { display: none; }`\n",
              "     but bootstrap.min.css set `[hidden] { display: none !important; }`\n",
              "     so we also need the `!important` here to be able to override the\n",
              "     default hidden behavior on the sphinx rendered scikit-learn.org.\n",
              "     See: https://github.com/scikit-learn/scikit-learn/issues/21755 */\n",
              "  display: inline-block !important;\n",
              "  position: relative;\n",
              "}\n",
              "\n",
              "#sk-container-id-3 div.sk-text-repr-fallback {\n",
              "  display: none;\n",
              "}\n",
              "\n",
              "div.sk-parallel-item,\n",
              "div.sk-serial,\n",
              "div.sk-item {\n",
              "  /* draw centered vertical line to link estimators */\n",
              "  background-image: linear-gradient(var(--sklearn-color-text-on-default-background), var(--sklearn-color-text-on-default-background));\n",
              "  background-size: 2px 100%;\n",
              "  background-repeat: no-repeat;\n",
              "  background-position: center center;\n",
              "}\n",
              "\n",
              "/* Parallel-specific style estimator block */\n",
              "\n",
              "#sk-container-id-3 div.sk-parallel-item::after {\n",
              "  content: \"\";\n",
              "  width: 100%;\n",
              "  border-bottom: 2px solid var(--sklearn-color-text-on-default-background);\n",
              "  flex-grow: 1;\n",
              "}\n",
              "\n",
              "#sk-container-id-3 div.sk-parallel {\n",
              "  display: flex;\n",
              "  align-items: stretch;\n",
              "  justify-content: center;\n",
              "  background-color: var(--sklearn-color-background);\n",
              "  position: relative;\n",
              "}\n",
              "\n",
              "#sk-container-id-3 div.sk-parallel-item {\n",
              "  display: flex;\n",
              "  flex-direction: column;\n",
              "}\n",
              "\n",
              "#sk-container-id-3 div.sk-parallel-item:first-child::after {\n",
              "  align-self: flex-end;\n",
              "  width: 50%;\n",
              "}\n",
              "\n",
              "#sk-container-id-3 div.sk-parallel-item:last-child::after {\n",
              "  align-self: flex-start;\n",
              "  width: 50%;\n",
              "}\n",
              "\n",
              "#sk-container-id-3 div.sk-parallel-item:only-child::after {\n",
              "  width: 0;\n",
              "}\n",
              "\n",
              "/* Serial-specific style estimator block */\n",
              "\n",
              "#sk-container-id-3 div.sk-serial {\n",
              "  display: flex;\n",
              "  flex-direction: column;\n",
              "  align-items: center;\n",
              "  background-color: var(--sklearn-color-background);\n",
              "  padding-right: 1em;\n",
              "  padding-left: 1em;\n",
              "}\n",
              "\n",
              "\n",
              "/* Toggleable style: style used for estimator/Pipeline/ColumnTransformer box that is\n",
              "clickable and can be expanded/collapsed.\n",
              "- Pipeline and ColumnTransformer use this feature and define the default style\n",
              "- Estimators will overwrite some part of the style using the `sk-estimator` class\n",
              "*/\n",
              "\n",
              "/* Pipeline and ColumnTransformer style (default) */\n",
              "\n",
              "#sk-container-id-3 div.sk-toggleable {\n",
              "  /* Default theme specific background. It is overwritten whether we have a\n",
              "  specific estimator or a Pipeline/ColumnTransformer */\n",
              "  background-color: var(--sklearn-color-background);\n",
              "}\n",
              "\n",
              "/* Toggleable label */\n",
              "#sk-container-id-3 label.sk-toggleable__label {\n",
              "  cursor: pointer;\n",
              "  display: flex;\n",
              "  width: 100%;\n",
              "  margin-bottom: 0;\n",
              "  padding: 0.5em;\n",
              "  box-sizing: border-box;\n",
              "  text-align: center;\n",
              "  align-items: start;\n",
              "  justify-content: space-between;\n",
              "  gap: 0.5em;\n",
              "}\n",
              "\n",
              "#sk-container-id-3 label.sk-toggleable__label .caption {\n",
              "  font-size: 0.6rem;\n",
              "  font-weight: lighter;\n",
              "  color: var(--sklearn-color-text-muted);\n",
              "}\n",
              "\n",
              "#sk-container-id-3 label.sk-toggleable__label-arrow:before {\n",
              "  /* Arrow on the left of the label */\n",
              "  content: \"▸\";\n",
              "  float: left;\n",
              "  margin-right: 0.25em;\n",
              "  color: var(--sklearn-color-icon);\n",
              "}\n",
              "\n",
              "#sk-container-id-3 label.sk-toggleable__label-arrow:hover:before {\n",
              "  color: var(--sklearn-color-text);\n",
              "}\n",
              "\n",
              "/* Toggleable content - dropdown */\n",
              "\n",
              "#sk-container-id-3 div.sk-toggleable__content {\n",
              "  max-height: 0;\n",
              "  max-width: 0;\n",
              "  overflow: hidden;\n",
              "  text-align: left;\n",
              "  /* unfitted */\n",
              "  background-color: var(--sklearn-color-unfitted-level-0);\n",
              "}\n",
              "\n",
              "#sk-container-id-3 div.sk-toggleable__content.fitted {\n",
              "  /* fitted */\n",
              "  background-color: var(--sklearn-color-fitted-level-0);\n",
              "}\n",
              "\n",
              "#sk-container-id-3 div.sk-toggleable__content pre {\n",
              "  margin: 0.2em;\n",
              "  border-radius: 0.25em;\n",
              "  color: var(--sklearn-color-text);\n",
              "  /* unfitted */\n",
              "  background-color: var(--sklearn-color-unfitted-level-0);\n",
              "}\n",
              "\n",
              "#sk-container-id-3 div.sk-toggleable__content.fitted pre {\n",
              "  /* unfitted */\n",
              "  background-color: var(--sklearn-color-fitted-level-0);\n",
              "}\n",
              "\n",
              "#sk-container-id-3 input.sk-toggleable__control:checked~div.sk-toggleable__content {\n",
              "  /* Expand drop-down */\n",
              "  max-height: 200px;\n",
              "  max-width: 100%;\n",
              "  overflow: auto;\n",
              "}\n",
              "\n",
              "#sk-container-id-3 input.sk-toggleable__control:checked~label.sk-toggleable__label-arrow:before {\n",
              "  content: \"▾\";\n",
              "}\n",
              "\n",
              "/* Pipeline/ColumnTransformer-specific style */\n",
              "\n",
              "#sk-container-id-3 div.sk-label input.sk-toggleable__control:checked~label.sk-toggleable__label {\n",
              "  color: var(--sklearn-color-text);\n",
              "  background-color: var(--sklearn-color-unfitted-level-2);\n",
              "}\n",
              "\n",
              "#sk-container-id-3 div.sk-label.fitted input.sk-toggleable__control:checked~label.sk-toggleable__label {\n",
              "  background-color: var(--sklearn-color-fitted-level-2);\n",
              "}\n",
              "\n",
              "/* Estimator-specific style */\n",
              "\n",
              "/* Colorize estimator box */\n",
              "#sk-container-id-3 div.sk-estimator input.sk-toggleable__control:checked~label.sk-toggleable__label {\n",
              "  /* unfitted */\n",
              "  background-color: var(--sklearn-color-unfitted-level-2);\n",
              "}\n",
              "\n",
              "#sk-container-id-3 div.sk-estimator.fitted input.sk-toggleable__control:checked~label.sk-toggleable__label {\n",
              "  /* fitted */\n",
              "  background-color: var(--sklearn-color-fitted-level-2);\n",
              "}\n",
              "\n",
              "#sk-container-id-3 div.sk-label label.sk-toggleable__label,\n",
              "#sk-container-id-3 div.sk-label label {\n",
              "  /* The background is the default theme color */\n",
              "  color: var(--sklearn-color-text-on-default-background);\n",
              "}\n",
              "\n",
              "/* On hover, darken the color of the background */\n",
              "#sk-container-id-3 div.sk-label:hover label.sk-toggleable__label {\n",
              "  color: var(--sklearn-color-text);\n",
              "  background-color: var(--sklearn-color-unfitted-level-2);\n",
              "}\n",
              "\n",
              "/* Label box, darken color on hover, fitted */\n",
              "#sk-container-id-3 div.sk-label.fitted:hover label.sk-toggleable__label.fitted {\n",
              "  color: var(--sklearn-color-text);\n",
              "  background-color: var(--sklearn-color-fitted-level-2);\n",
              "}\n",
              "\n",
              "/* Estimator label */\n",
              "\n",
              "#sk-container-id-3 div.sk-label label {\n",
              "  font-family: monospace;\n",
              "  font-weight: bold;\n",
              "  display: inline-block;\n",
              "  line-height: 1.2em;\n",
              "}\n",
              "\n",
              "#sk-container-id-3 div.sk-label-container {\n",
              "  text-align: center;\n",
              "}\n",
              "\n",
              "/* Estimator-specific */\n",
              "#sk-container-id-3 div.sk-estimator {\n",
              "  font-family: monospace;\n",
              "  border: 1px dotted var(--sklearn-color-border-box);\n",
              "  border-radius: 0.25em;\n",
              "  box-sizing: border-box;\n",
              "  margin-bottom: 0.5em;\n",
              "  /* unfitted */\n",
              "  background-color: var(--sklearn-color-unfitted-level-0);\n",
              "}\n",
              "\n",
              "#sk-container-id-3 div.sk-estimator.fitted {\n",
              "  /* fitted */\n",
              "  background-color: var(--sklearn-color-fitted-level-0);\n",
              "}\n",
              "\n",
              "/* on hover */\n",
              "#sk-container-id-3 div.sk-estimator:hover {\n",
              "  /* unfitted */\n",
              "  background-color: var(--sklearn-color-unfitted-level-2);\n",
              "}\n",
              "\n",
              "#sk-container-id-3 div.sk-estimator.fitted:hover {\n",
              "  /* fitted */\n",
              "  background-color: var(--sklearn-color-fitted-level-2);\n",
              "}\n",
              "\n",
              "/* Specification for estimator info (e.g. \"i\" and \"?\") */\n",
              "\n",
              "/* Common style for \"i\" and \"?\" */\n",
              "\n",
              ".sk-estimator-doc-link,\n",
              "a:link.sk-estimator-doc-link,\n",
              "a:visited.sk-estimator-doc-link {\n",
              "  float: right;\n",
              "  font-size: smaller;\n",
              "  line-height: 1em;\n",
              "  font-family: monospace;\n",
              "  background-color: var(--sklearn-color-background);\n",
              "  border-radius: 1em;\n",
              "  height: 1em;\n",
              "  width: 1em;\n",
              "  text-decoration: none !important;\n",
              "  margin-left: 0.5em;\n",
              "  text-align: center;\n",
              "  /* unfitted */\n",
              "  border: var(--sklearn-color-unfitted-level-1) 1pt solid;\n",
              "  color: var(--sklearn-color-unfitted-level-1);\n",
              "}\n",
              "\n",
              ".sk-estimator-doc-link.fitted,\n",
              "a:link.sk-estimator-doc-link.fitted,\n",
              "a:visited.sk-estimator-doc-link.fitted {\n",
              "  /* fitted */\n",
              "  border: var(--sklearn-color-fitted-level-1) 1pt solid;\n",
              "  color: var(--sklearn-color-fitted-level-1);\n",
              "}\n",
              "\n",
              "/* On hover */\n",
              "div.sk-estimator:hover .sk-estimator-doc-link:hover,\n",
              ".sk-estimator-doc-link:hover,\n",
              "div.sk-label-container:hover .sk-estimator-doc-link:hover,\n",
              ".sk-estimator-doc-link:hover {\n",
              "  /* unfitted */\n",
              "  background-color: var(--sklearn-color-unfitted-level-3);\n",
              "  color: var(--sklearn-color-background);\n",
              "  text-decoration: none;\n",
              "}\n",
              "\n",
              "div.sk-estimator.fitted:hover .sk-estimator-doc-link.fitted:hover,\n",
              ".sk-estimator-doc-link.fitted:hover,\n",
              "div.sk-label-container:hover .sk-estimator-doc-link.fitted:hover,\n",
              ".sk-estimator-doc-link.fitted:hover {\n",
              "  /* fitted */\n",
              "  background-color: var(--sklearn-color-fitted-level-3);\n",
              "  color: var(--sklearn-color-background);\n",
              "  text-decoration: none;\n",
              "}\n",
              "\n",
              "/* Span, style for the box shown on hovering the info icon */\n",
              ".sk-estimator-doc-link span {\n",
              "  display: none;\n",
              "  z-index: 9999;\n",
              "  position: relative;\n",
              "  font-weight: normal;\n",
              "  right: .2ex;\n",
              "  padding: .5ex;\n",
              "  margin: .5ex;\n",
              "  width: min-content;\n",
              "  min-width: 20ex;\n",
              "  max-width: 50ex;\n",
              "  color: var(--sklearn-color-text);\n",
              "  box-shadow: 2pt 2pt 4pt #999;\n",
              "  /* unfitted */\n",
              "  background: var(--sklearn-color-unfitted-level-0);\n",
              "  border: .5pt solid var(--sklearn-color-unfitted-level-3);\n",
              "}\n",
              "\n",
              ".sk-estimator-doc-link.fitted span {\n",
              "  /* fitted */\n",
              "  background: var(--sklearn-color-fitted-level-0);\n",
              "  border: var(--sklearn-color-fitted-level-3);\n",
              "}\n",
              "\n",
              ".sk-estimator-doc-link:hover span {\n",
              "  display: block;\n",
              "}\n",
              "\n",
              "/* \"?\"-specific style due to the `<a>` HTML tag */\n",
              "\n",
              "#sk-container-id-3 a.estimator_doc_link {\n",
              "  float: right;\n",
              "  font-size: 1rem;\n",
              "  line-height: 1em;\n",
              "  font-family: monospace;\n",
              "  background-color: var(--sklearn-color-background);\n",
              "  border-radius: 1rem;\n",
              "  height: 1rem;\n",
              "  width: 1rem;\n",
              "  text-decoration: none;\n",
              "  /* unfitted */\n",
              "  color: var(--sklearn-color-unfitted-level-1);\n",
              "  border: var(--sklearn-color-unfitted-level-1) 1pt solid;\n",
              "}\n",
              "\n",
              "#sk-container-id-3 a.estimator_doc_link.fitted {\n",
              "  /* fitted */\n",
              "  border: var(--sklearn-color-fitted-level-1) 1pt solid;\n",
              "  color: var(--sklearn-color-fitted-level-1);\n",
              "}\n",
              "\n",
              "/* On hover */\n",
              "#sk-container-id-3 a.estimator_doc_link:hover {\n",
              "  /* unfitted */\n",
              "  background-color: var(--sklearn-color-unfitted-level-3);\n",
              "  color: var(--sklearn-color-background);\n",
              "  text-decoration: none;\n",
              "}\n",
              "\n",
              "#sk-container-id-3 a.estimator_doc_link.fitted:hover {\n",
              "  /* fitted */\n",
              "  background-color: var(--sklearn-color-fitted-level-3);\n",
              "}\n",
              "</style><div id=\"sk-container-id-3\" class=\"sk-top-container\"><div class=\"sk-text-repr-fallback\"><pre>AdaBoostRegressor(random_state=42)</pre><b>In a Jupyter environment, please rerun this cell to show the HTML representation or trust the notebook. <br />On GitHub, the HTML representation is unable to render, please try loading this page with nbviewer.org.</b></div><div class=\"sk-container\" hidden><div class=\"sk-item\"><div class=\"sk-estimator fitted sk-toggleable\"><input class=\"sk-toggleable__control sk-hidden--visually\" id=\"sk-estimator-id-3\" type=\"checkbox\" checked><label for=\"sk-estimator-id-3\" class=\"sk-toggleable__label fitted sk-toggleable__label-arrow\"><div><div>AdaBoostRegressor</div></div><div><a class=\"sk-estimator-doc-link fitted\" rel=\"noreferrer\" target=\"_blank\" href=\"https://scikit-learn.org/1.6/modules/generated/sklearn.ensemble.AdaBoostRegressor.html\">?<span>Documentation for AdaBoostRegressor</span></a><span class=\"sk-estimator-doc-link fitted\">i<span>Fitted</span></span></div></label><div class=\"sk-toggleable__content fitted\"><pre>AdaBoostRegressor(random_state=42)</pre></div> </div></div></div></div>"
            ]
          },
          "metadata": {},
          "execution_count": 29
        }
      ],
      "source": [
        "# Train a RandomForestRegressor model\n",
        "\n",
        "# model = ElasticNet()\n",
        "# model = RandomForestRegressor(random_state=42)\n",
        "model = AdaBoostRegressor(random_state=42)\n",
        "\n",
        "\n",
        "model.fit(X_train, y_train)\n"
      ]
    },
    {
      "cell_type": "markdown",
      "id": "9658cdf1-73c6-4235-ac8a-acc856bc9943",
      "metadata": {
        "id": "9658cdf1-73c6-4235-ac8a-acc856bc9943"
      },
      "source": [
        "Evaluate the model performance\n"
      ]
    },
    {
      "cell_type": "code",
      "execution_count": null,
      "id": "738e70f4-e869-4bb9-ab85-e7a70655e325",
      "metadata": {
        "id": "738e70f4-e869-4bb9-ab85-e7a70655e325"
      },
      "outputs": [],
      "source": [
        "# Test the model\n",
        "\n",
        "y_pred = model.predict(X_test)"
      ]
    },
    {
      "cell_type": "code",
      "execution_count": null,
      "id": "d79231e4-eaab-4a6c-b3d5-42d28c9c96b6",
      "metadata": {
        "colab": {
          "base_uri": "https://localhost:8080/"
        },
        "id": "d79231e4-eaab-4a6c-b3d5-42d28c9c96b6",
        "outputId": "6fe6fd85-f80c-4a92-c370-8d70b9590da4"
      },
      "outputs": [
        {
          "output_type": "stream",
          "name": "stdout",
          "text": [
            "Mean Squared Error: 17051675.462436788\n",
            "Root Mean Squared Error: 4129.367440957124\n"
          ]
        }
      ],
      "source": [
        "# Calculate the error\n",
        "\n",
        "mse = mean_squared_error(y_test, y_pred)\n",
        "print(f\"Mean Squared Error: {mse}\")\n",
        "\n",
        "rmse = np.sqrt(mse)\n",
        "print(\"Root Mean Squared Error:\", rmse)\n",
        "\n",
        "\n"
      ]
    },
    {
      "cell_type": "markdown",
      "id": "82160006-10b4-478a-8b10-89da91579b58",
      "metadata": {
        "id": "82160006-10b4-478a-8b10-89da91579b58"
      },
      "source": [
        "#\n",
        "Moving over to making predictions"
      ]
    },
    {
      "cell_type": "code",
      "execution_count": null,
      "id": "a7328938-a2bb-4a5a-8847-2343233f1ae8",
      "metadata": {
        "id": "a7328938-a2bb-4a5a-8847-2343233f1ae8"
      },
      "outputs": [],
      "source": [
        "# Function to make a single prediction\n",
        "def predict_crop_yield(model, scaler, input_data):\n",
        "    \"\"\"\n",
        "    Predict crop yield given input parameters.\n",
        "\n",
        "    Parameters:\n",
        "    model: trained machine learning model\n",
        "    scaler: trained scaler used during training\n",
        "    input_data: dictionary containing input parameters\n",
        "\n",
        "    Returns:\n",
        "    Predicted crop yield\n",
        "    \"\"\"\n",
        "\n",
        "    # Convert input dictionary to DataFrame\n",
        "    input_df = pd.DataFrame([input_data])\n",
        "\n",
        "    # Select only relevant columns (should match training features)\n",
        "    feature_columns = ['N_SOIL', 'P_SOIL', 'K_SOIL', 'TEMPERATURE', 'HUMIDITY', 'ph', 'RAINFALL', 'CROP_CODE']\n",
        "    input_df = input_df[feature_columns]\n",
        "\n",
        "    # Scale input data using same scaler as training\n",
        "    input_scaled = scaler.transform(input_df)\n",
        "\n",
        "    # Predict crop yield\n",
        "    prediction = model.predict(input_scaled)\n",
        "\n",
        "    return prediction[0]  # Return single value\n"
      ]
    },
    {
      "cell_type": "code",
      "execution_count": null,
      "id": "3050ef59-1cc2-4e6a-b189-cc576b2e4726",
      "metadata": {
        "id": "3050ef59-1cc2-4e6a-b189-cc576b2e4726"
      },
      "outputs": [],
      "source": [
        "def get_user_input():\n",
        "    print(\"Enter the following parameters:\")\n",
        "    N_SOIL = float(input(\"N_SOIL: \"))\n",
        "    P_SOIL = float(input(\"P_SOIL: \"))\n",
        "    K_SOIL = float(input(\"K_SOIL: \"))\n",
        "    TEMPERATURE = float(input(\"TEMPERATURE: \"))\n",
        "    HUMIDITY = float(input(\"HUMIDITY: \"))\n",
        "    ph = float(input(\"ph: \"))\n",
        "    RAINFALL = float(input(\"RAINFALL: \"))\n",
        "    crop_name = input(\"CROP Name (e.g., Rice, Maize, etc.): \")\n",
        "\n",
        "    # Crop code mapping\n",
        "    crop_code_mapping = {\n",
        "        'Rice': 1, 'Maize': 2, 'ChickPea': 3, 'KidneyBeans': 4, 'PigeonPeas': 5,\n",
        "        'MothBeans': 6, 'MungBean': 7, 'Blackgram': 8, 'Lentil': 9, 'Pomegranate': 10,\n",
        "        'Banana': 11, 'Mango': 12, 'Grapes': 13, 'Watermelon': 14, 'Muskmelon': 15,\n",
        "        'Apple': 16, 'Orange': 17, 'Papaya': 18, 'Coconut': 19, 'Cotton': 20, 'Jute': 21, 'Coffee': 22\n",
        "    }\n",
        "\n",
        "    CROP_CODE = crop_code_mapping.get(crop_name, 1)  # Default to Rice if not found\n",
        "\n",
        "    return {\n",
        "        'N_SOIL': N_SOIL,\n",
        "        'P_SOIL': P_SOIL,\n",
        "        'K_SOIL': K_SOIL,\n",
        "        'TEMPERATURE': TEMPERATURE,\n",
        "        'HUMIDITY': HUMIDITY,\n",
        "        'ph': ph,\n",
        "        'RAINFALL': RAINFALL,\n",
        "        'CROP_CODE': CROP_CODE\n",
        "    }\n"
      ]
    },
    {
      "cell_type": "markdown",
      "id": "bc8d01da-9a61-425b-9247-3cdbcade90c0",
      "metadata": {
        "id": "bc8d01da-9a61-425b-9247-3cdbcade90c0"
      },
      "source": [
        "#\n",
        "Let's get your input here.\n",
        "\n",
        "#\n",
        "Here is the crop mapping:\n",
        "\n",
        "        Rice: 1, Maize: 2, ChickPea: 3, KidneyBeans: 4, PigeonPeas: 5,\n",
        "        MothBeans: 6, MungBean: 7, Blackgram: 8, Lentil: 9, Pomegranate: 10,\n",
        "        Banana: 11, Mango: 12, Grapes: 13, Watermelon: 14, Muskmelon: 15,\n",
        "        Apple: 16, Orange: 17, Papaya: 18, Coconut: 19, Cotton: 20, Jute: 21, Coffee: 22"
      ]
    },
    {
      "cell_type": "code",
      "execution_count": null,
      "id": "cf4d01e9-cc33-44d6-bd18-a8066c7a23a1",
      "metadata": {
        "colab": {
          "base_uri": "https://localhost:8080/"
        },
        "id": "cf4d01e9-cc33-44d6-bd18-a8066c7a23a1",
        "outputId": "0a156808-251c-4568-9830-eb0fe7869035"
      },
      "outputs": [
        {
          "name": "stdout",
          "output_type": "stream",
          "text": [
            "Enter the following parameters:\n",
            "N_SOIL: 90\n",
            "P_SOIL: 42\n",
            "K_SOIL: 43\n",
            "TEMPERATURE: 20.88\n",
            "HUMIDITY: 82\n",
            "ph: 6.5\n",
            "RAINFALL: 202.94\n",
            "CROP Name (e.g., Rice, Maize, etc.): Rice\n"
          ]
        }
      ],
      "source": [
        "# Get input\n",
        "\n",
        "input_data = get_user_input()"
      ]
    },
    {
      "cell_type": "code",
      "execution_count": null,
      "id": "866eb8f6-5357-414b-b8b0-0ae149992ae0",
      "metadata": {
        "colab": {
          "base_uri": "https://localhost:8080/"
        },
        "id": "866eb8f6-5357-414b-b8b0-0ae149992ae0",
        "outputId": "a8744eb9-2da5-4da4-d943-ed5d259e56cd"
      },
      "outputs": [
        {
          "output_type": "stream",
          "name": "stdout",
          "text": [
            "The predicted yield is 7103.331858407079.\n"
          ]
        }
      ],
      "source": [
        "# Prediction\n",
        "# N_SOIL: 90\n",
        "# P_SOIL: 42\n",
        "# K_SOIL: 43\n",
        "# TEMPERATURE: 20.88\n",
        "# HUMIDITY: 82\n",
        "# ph: 6.5\n",
        "# RAINFALL: 202.94\n",
        "# CROP Name (e.g., Rice, Maize, etc.): Rice\n",
        "# input_data = {\n",
        "#     'N_SOIL': 83,\n",
        "#     'P_SOIL': 41,\n",
        "#     'K_SOIL': 43,\n",
        "#     'TEMPERATURE': 21.0525355,\n",
        "#     'HUMIDITY': 82.67839517,\n",
        "#     'ph': 6.254028451,\n",
        "#     'RAINFALL': 233.1075816,\n",
        "#     'CROP_CODE': 1}\n",
        "\n",
        "\n",
        "\n",
        "new_prediction = predict_crop_yield(model, scaler, input_data)\n",
        "\n",
        "print(f'The predicted yield is {new_prediction}.')"
      ]
    },
    {
      "cell_type": "code",
      "source": [
        "# Function to plot actual vs. predicted values\n",
        "def plot_predictions(y_true, y_pred, model):\n",
        "    plt.figure(figsize=(10, 6))\n",
        "    sns.scatterplot(x=y_true, y=y_pred, alpha=0.6, label='Predictions')\n",
        "    sns.lineplot(x=[min(y_true), max(y_true)], y=[min(y_true), max(y_true)], color='red', label='Ideal Line')\n",
        "    plt.xlabel('Actual Crop Yield')\n",
        "    plt.ylabel('Predicted Crop Yield')\n",
        "    plt.title(f'Actual vs. Predicted Crop Yield for {model}')\n",
        "    plt.legend()\n",
        "    plt.show()\n",
        "\n",
        "# Evaluate the model performance and plot\n",
        "# y_pred = model.predict(X_test)\n",
        "# mse = mean_squared_error(y_test, y_pred)\n",
        "# rmse = np.sqrt(mse)\n",
        "# r2 = r2_score(y_test, y_pred)\n",
        "\n",
        "# print(f\"Mean Squared Error: {mse}\")\n",
        "# print(f\"Root Mean Squared Error: {rmse}\")\n",
        "# print(f\"R2 Score: {r2}\")\n",
        "\n",
        "# Plot the predictions\n",
        "plot_predictions(y_test, y_pred, 'ElasticNet Regressor')"
      ],
      "metadata": {
        "colab": {
          "base_uri": "https://localhost:8080/",
          "height": 564
        },
        "id": "U8IG9ySDeA_9",
        "outputId": "f672edee-0496-4fdd-a647-07e54dd1c0f9"
      },
      "id": "U8IG9ySDeA_9",
      "execution_count": null,
      "outputs": [
        {
          "output_type": "display_data",
          "data": {
            "text/plain": [
              "<Figure size 1000x600 with 1 Axes>"
            ],
            "image/png": "[encoded data removed]"
          },
          "metadata": {}
        }
      ]
    },
    {
      "cell_type": "code",
      "source": [],
      "metadata": {
        "id": "GUL4Wb8TehNL"
      },
      "id": "GUL4Wb8TehNL",
      "execution_count": null,
      "outputs": []
    }
  ],
  "metadata": {
    "kernelspec": {
      "display_name": "Python 3 (ipykernel)",
      "language": "python",
      "name": "python3"
    },
    "language_info": {
      "codemirror_mode": {
        "name": "ipython",
        "version": 3
      },
      "file_extension": ".py",
      "mimetype": "text/x-python",
      "name": "python",
      "nbconvert_exporter": "python",
      "pygments_lexer": "ipython3",
      "version": "3.11.9"
    },
    "colab": {
      "provenance": [],
      "include_colab_link": true
    }
  },
  "nbformat": 4,
  "nbformat_minor": 5
}